{
 "cells": [
  {
   "cell_type": "code",
   "execution_count": 2,
   "metadata": {},
   "outputs": [],
   "source": [
    "import numpy as np\n",
    "import strax\n",
    "import straxen\n",
    "import wfsim\n",
    "\n",
    "import matplotlib.pyplot as plt\n",
    "from matplotlib.colors import LogNorm\n",
    "from multihist import Histdd, Hist1d\n",
    "from scipy import stats\n",
    "\n",
    "import json"
   ]
  },
  {
   "cell_type": "code",
   "execution_count": 3,
   "metadata": {},
   "outputs": [
    {
     "data": {
      "text/plain": [
       "['/dali/lgrandi/kazama/xenonnt/ml/wfsim',\n",
       " '/dali/lgrandi/strax/miniconda3/envs/strax/lib/python37.zip',\n",
       " '/dali/lgrandi/strax/miniconda3/envs/strax/lib/python3.7',\n",
       " '/dali/lgrandi/strax/miniconda3/envs/strax/lib/python3.7/lib-dynload',\n",
       " '',\n",
       " '/home/kazama/.local/lib/python3.7/site-packages',\n",
       " '/dali/lgrandi/strax/miniconda3/envs/strax/lib/python3.7/site-packages',\n",
       " '/dali/lgrandi/strax/flamedisx',\n",
       " '/dali/lgrandi/strax/strax',\n",
       " '/dali/lgrandi/strax/straxen',\n",
       " '/dali/lgrandi/strax/WFSim',\n",
       " '/dali/lgrandi/strax/utilix',\n",
       " '/dali/lgrandi/strax/miniconda3/envs/strax/lib/python3.7/site-packages/IPython/extensions',\n",
       " '/home/kazama/.ipython']"
      ]
     },
     "execution_count": 3,
     "metadata": {},
     "output_type": "execute_result"
    }
   ],
   "source": [
    "import os, sys\n",
    "sys.path"
   ]
  },
  {
   "cell_type": "code",
   "execution_count": 4,
   "metadata": {},
   "outputs": [],
   "source": [
    "config = dict(detector='XENONnT',\n",
    "                    **straxen.contexts.xnt_common_config,\n",
    "                    to_pe_file= 'https://raw.githubusercontent.com/XENONnT/'\n",
    "                                   'strax_auxiliary_files/master/fax_files/to_pe_nt.npy',\n",
    "                    fax_config='https://raw.githubusercontent.com/XENONnT/'\n",
    "                               'strax_auxiliary_files/master/fax_files/fax_config_nt.json',\n",
    "                    \n",
    "                    )\n",
    "config.update(dict(gain_model=('to_pe_constant', 0.00612255) ))"
   ]
  },
  {
   "cell_type": "code",
   "execution_count": 5,
   "metadata": {},
   "outputs": [],
   "source": [
    "st = strax.Context(\n",
    "        storage=strax.DataDirectory('./strax_data'),\n",
    "        register=wfsim.RawRecordsFromFax,\n",
    "        config=config,\n",
    "        timeout= 3600,\n",
    "        **straxen.contexts.common_opts)\n",
    "\n",
    "config = dict(nchunk=1, event_rate=1, chunk_size=200)#options.NUMEVENTS,)\n",
    "st.set_config(config)\n",
    "st.set_config(dict(fax_file=None))"
   ]
  },
  {
   "cell_type": "code",
   "execution_count": 6,
   "metadata": {},
   "outputs": [],
   "source": [
    "run_id = '1'"
   ]
  },
  {
   "cell_type": "code",
   "execution_count": 7,
   "metadata": {},
   "outputs": [],
   "source": [
    "## Neutron Energy Spectrum in keVnr \n",
    "\n",
    "def map_averaging(data, plot_end):\n",
    "    bin_centers = map_binning(data)\n",
    "    end_bin = np.digitize(plot_end, bin_centers)\n",
    "    data['map'] = [np.average(data['map'][0:end_bin])]*len(data['map'])\n",
    "    return data\n",
    "\n",
    "def map_binning(data):\n",
    "    bin_edges = np.linspace(0.0, np.float32(data['coordinate_system'][0][1][1]), data['coordinate_system'][0][1][2]+1)\n",
    "    bin_centers = bin_edges[1:]-(bin_edges[1:]-bin_edges[:-1])/2.\n",
    "    return bin_centers\n",
    "\n",
    "with open('Radiogenics.json') as json_file:\n",
    "    radiogenics_data_map = json.load(json_file)"
   ]
  },
  {
   "cell_type": "code",
   "execution_count": 8,
   "metadata": {},
   "outputs": [],
   "source": [
    "## Normalize the spectrum using events in [4, 50] keVnr\n",
    "\n",
    "scale = 1./np.sum(radiogenics_data_map['map'][40:500])\n",
    "normalized_spectra = np.array(radiogenics_data_map['map'][40:500])*scale"
   ]
  },
  {
   "cell_type": "code",
   "execution_count": 9,
   "metadata": {},
   "outputs": [],
   "source": [
    "## Get Neutron Recoil Energy\n",
    "\n",
    "#from numpy.random import choice\n",
    "#draw = choice(map_binning(radiogenics_data_map)[40:500], 10, p=np.array(normalized_spectra))\n",
    "#draw"
   ]
  },
  {
   "cell_type": "code",
   "execution_count": 10,
   "metadata": {},
   "outputs": [
    {
     "data": {
      "text/plain": [
       "1.335"
      ]
     },
     "execution_count": 10,
     "metadata": {},
     "output_type": "execute_result"
    }
   ],
   "source": [
    "# drift velocity in LXe with [um/nsec] unit\n",
    "\n",
    "v_dt = 1e4*straxen.get_resource('/home/kazama/dali/xenonnt/ml/wfsim/fax_config_1t.json',fmt='json')['drift_velocity_liquid']\n",
    "v_dt"
   ]
  },
  {
   "cell_type": "code",
   "execution_count": 11,
   "metadata": {},
   "outputs": [],
   "source": [
    "def instruction_for_double_S2s(c):\n",
    "\n",
    "    import nestpy\n",
    "    from numpy.random import choice\n",
    "\n",
    "    n_mean_length = 10. # mean interaction length for neutrons: ~10cm\n",
    "    \n",
    "    c['total_time'] = c['chunk_size'] * c['nchunk'] # will not be used for anything\n",
    "    n = 10 ## Number of events to be simulated, \n",
    "    #n = c['nevents'] = c['event_rate'] * c['chunk_size'] * c['nchunk']\n",
    "\n",
    "    ## Number of simulated truth is 2*n for double scatter simulation\n",
    "    instructions = np.zeros(2 * n, dtype=wfsim.instruction_dtype)\n",
    "    \n",
    "    ## event_number is [0, 0, 1, 1, ..., n, n] \n",
    "    instructions['event_number'] = np.asarray([(i+((-1)**i-1)/2)/2 for i in range(2*n)],\n",
    "                                              dtype = int)\n",
    "    print('generated event_number = ', instructions['event_number'])\n",
    "    \n",
    "    instructions['type'] = np.repeat([2], 2 * n) ## S2\n",
    "    instructions['recoil'] = np.repeat(np.array([\"nr\"], dtype='<U2'), 2*n)\n",
    "    instructions['x'] = np.repeat(0, 2 * n)\n",
    "    instructions['y'] = np.repeat(0, 2 * n)\n",
    "\n",
    "    z_val = []\n",
    "    t_val = []\n",
    "    \n",
    "    ## first interaction is generated randomly in [-140, -10]cm at the moment\n",
    "    z_min = -140\n",
    "    z_max = -10\n",
    "    \n",
    "    for i in range(0, n):\n",
    "        z_val1 = np.random.uniform(z_min, z_max, 1)\n",
    "        z_val2 = 3 \n",
    "        \n",
    "        # if the distance between S2[0] and S2[1] is > 2mm, can reconstruct 2S2s\n",
    "        #\n",
    "        while z_val2 > 2:\n",
    "            z_val2 = np.random.exponential(n_mean_length, 1)\n",
    "        \n",
    "        t_val1 = 0.\n",
    "        t_val2 = z_val2*1e4/v_dt # nano-second\n",
    "        \n",
    "        z_val2 = z_val1 - z_val2    \n",
    "        z_val.append(z_val1[0])\n",
    "        z_val.append(z_val2[0])\n",
    "        \n",
    "        t_val.append(t_val1)\n",
    "        t_val.append(int(t_val2[0]))\n",
    "    \n",
    "    z_val = np.array(z_val)\n",
    "    t_val = np.array(t_val)\n",
    "    \n",
    "    t = np.zeros(2*n)\n",
    "\n",
    "    for i in range(0, 2*n):\n",
    "        if i%2 == 0:\n",
    "            t[i] = 1e9*i/2. + 1e6\n",
    "        if i%2 != 0:\n",
    "            t[i] = t[i-1] + t_val[i]\n",
    "        \n",
    "    #instructions['z'] = np.repeat(np.random.uniform(-100, 0, n), 4)\n",
    "    instructions['z'] = z_val\n",
    "\n",
    "    #instructions['time'] = 1e9*np.arange(0,n, dtype= float) +1e6 # Andrii's code\n",
    "    instructions['time'] = t\n",
    "\n",
    "    # nestpy to get QY for NR for given energy\n",
    "    nc = nestpy.NESTcalc(nestpy.VDetector())\n",
    "    A = 131.293\n",
    "    Z = 54.\n",
    "    density = 2.862  # g/cm^3   #SR1 Value\n",
    "    drift_field = 82  # V/cm    #SR1 Value\n",
    "    interaction = nestpy.INTERACTION_TYPE(0) # NR\n",
    "    \n",
    "    energy_range = map_binning(radiogenics_data_map)[40:500] # [4, 50] keV region\n",
    "    energy = choice(energy_range, 2 * n, p=np.array(normalized_spectra))\n",
    "\n",
    "    quanta = []\n",
    "    for en in energy:\n",
    "        y = nc.GetYields(interaction,\n",
    "                         en,\n",
    "                         density,\n",
    "                         drift_field,\n",
    "                         A,\n",
    "                         Z)\n",
    "        quanta.append(nc.GetQuanta(y, density).electrons)\n",
    "        \n",
    "    instructions['amp'] = quanta\n",
    "    print('generated # of e- = ', quanta)\n",
    "\n",
    "    instructions = instructions[instructions[\"amp\"] > 0]\n",
    "    \n",
    "    print('generatd S2 time = ', instructions['time'])\n",
    "    \n",
    "    return instructions"
   ]
  },
  {
   "cell_type": "code",
   "execution_count": 12,
   "metadata": {},
   "outputs": [],
   "source": [
    "wfsim.strax_interface.rand_instructions = instruction_for_double_S2s\n",
    "wfsim.rand_instructions = instruction_for_double_S2s"
   ]
  },
  {
   "cell_type": "code",
   "execution_count": 13,
   "metadata": {},
   "outputs": [
    {
     "data": {
      "text/plain": [
       "[('event_number', numpy.int32),\n",
       " ('type', numpy.int8),\n",
       " ('time', numpy.int64),\n",
       " ('x', numpy.float32),\n",
       " ('y', numpy.float32),\n",
       " ('z', numpy.float32),\n",
       " ('amp', numpy.int32),\n",
       " ('recoil', '<U2')]"
      ]
     },
     "execution_count": 13,
     "metadata": {},
     "output_type": "execute_result"
    }
   ],
   "source": [
    "wfsim.instruction_dtype"
   ]
  },
  {
   "cell_type": "code",
   "execution_count": 14,
   "metadata": {},
   "outputs": [],
   "source": [
    "#wfsim.rand_instructions??"
   ]
  },
  {
   "cell_type": "code",
   "execution_count": 15,
   "metadata": {},
   "outputs": [],
   "source": [
    "#st.set_config(dict(fax_file= '/dali/lgrandi/pgaemers/fax_files/Xenon1T_WholeLXe_Pb212_00008_g4mc_G4.root'))"
   ]
  },
  {
   "cell_type": "code",
   "execution_count": 16,
   "metadata": {},
   "outputs": [
    {
     "data": {
      "text/plain": [
       "dict_keys(['anode_field_domination_distance', 'anode_voltage', 'anode_wire_radius', 'channels_bottom', 'channels_in_detector', 'detector', 'diffusion_constant_liquid', 'digitizer_bits', 'digitizer_reference_baseline', 'digitizer_voltage_range', 'drift_field', 'drift_time_gate', 'drift_velocity_liquid', 'electron_extraction_yield', 'electron_lifetime_liquid', 'electron_trapping_time', 'elr_gas_gap_length', 'external_amplification', 'gas_drift_velocity_slope', 'gate_to_anode_distance', 'gauss_noise_sigmas', 'led_pulse_length', 'liquid_density', 'lxe_dielectric_constant', 'maximum_recombination_time', 'p_double_pe_emision', 'pe_pulse_ts', 'pe_pulse_ys', 'photoelectric_modifier', 'photoelectric_p', 'photoelectric_t_center', 'photoelectric_t_spread', 'photoionization_modifier', 'pmt_ap_modifier', 'pmt_ap_t_modifier', 'pmt_circuit_load_resistor', 'pmt_pulse_time_rounding', 'pmt_transit_time_mean', 'pmt_transit_time_spread', 'pressure', 'real_noise_sample_mode', 'real_noise_sample_size', 'right_raw_extension', 's1_ER_alpha_singlet_fraction', 's1_ER_primary_singlet_fraction', 's1_ER_recombination_fraction', 's1_ER_recombination_time', 's1_ER_secondary_singlet_fraction', 's1_NR_singlet_fraction', 's1_decay_time', 's1_detection_efficiency', 's1_model_type', 's1_risetime_threshold', 's1_width_threshold', 's2_mean_area_fraction_top', 's2_secondary_sc_gain', 'sample_duration', 'samples_after_pulse_center', 'samples_before_pulse_center', 'samples_to_store_after', 'samples_to_store_before', 'singlet_fraction_gas', 'singlet_lifetime_gas', 'singlet_lifetime_liquid', 'special_thresholds', 'temperature', 'tpc_length', 'tpc_radius', 'trigger_window', 'triplet_lifetime_gas', 'triplet_lifetime_liquid', 'zle_threshold'])"
      ]
     },
     "execution_count": 16,
     "metadata": {},
     "output_type": "execute_result"
    }
   ],
   "source": [
    "straxen.get_resource('fax_config_1t.json',fmt='json').keys()"
   ]
  },
  {
   "cell_type": "code",
   "execution_count": 17,
   "metadata": {},
   "outputs": [
    {
     "data": {
      "application/vnd.jupyter.widget-view+json": {
       "model_id": "a11765ee86dc4f629b093b3f6994102b",
       "version_major": 2,
       "version_minor": 0
      },
      "text/plain": [
       "HBox(children=(FloatProgress(value=0.0, max=1.0), HTML(value='')))"
      ]
     },
     "metadata": {},
     "output_type": "display_data"
    },
    {
     "name": "stdout",
     "output_type": "stream",
     "text": [
      "\n"
     ]
    }
   ],
   "source": [
    "truth = st.get_array(run_id, 'truth')"
   ]
  },
  {
   "cell_type": "code",
   "execution_count": 18,
   "metadata": {},
   "outputs": [
    {
     "data": {
      "text/plain": [
       "dtype([('event_number', '<i4'), ('type', 'i1'), ('time', '<i8'), ('x', '<f4'), ('y', '<f4'), ('z', '<f4'), ('amp', '<i4'), ('recoil', '<U2'), ('n_electron', '<f8'), ('n_photon', '<f8'), ('n_photon_bottom', '<f8'), ('t_first_photon', '<f8'), ('t_last_photon', '<f8'), ('t_mean_photon', '<f8'), ('t_sigma_photon', '<f8'), ('t_first_electron', '<f8'), ('t_last_electron', '<f8'), ('t_mean_electron', '<f8'), ('t_sigma_electron', '<f8'), ('endtime', '<i8')])"
      ]
     },
     "execution_count": 18,
     "metadata": {},
     "output_type": "execute_result"
    }
   ],
   "source": [
    "truth.dtype"
   ]
  },
  {
   "cell_type": "code",
   "execution_count": 19,
   "metadata": {},
   "outputs": [
    {
     "data": {
      "text/plain": [
       "array([   1768015,    1769768, 1001455080, 1001481121, 2001144708,\n",
       "       2001158960, 3001722283, 3001725752, 4001086904, 4001105646,\n",
       "       5001119312, 5001132717, 6001957743, 6001975654, 7001633022,\n",
       "       7001656877, 8001186257, 8001188879])"
      ]
     },
     "execution_count": 19,
     "metadata": {},
     "output_type": "execute_result"
    }
   ],
   "source": [
    "truth=truth[truth['type']==2]\n",
    "truth['time']"
   ]
  },
  {
   "cell_type": "code",
   "execution_count": 20,
   "metadata": {},
   "outputs": [],
   "source": [
    "def abs_time_and_samples(p):\n",
    "\n",
    "    n = p['length']\n",
    "    x = ((p['time']) + np.arange(n + 1) * p['dt']) / int(1e9)\n",
    "    #x = ((p['time']) + np.arange(n + 1) * p['dt']) \n",
    "\n",
    "    y = p['data'][:n] / p['dt']\n",
    "    return x, np.concatenate([[y[0]], y])\n",
    "\n",
    "\n",
    "def plot_get_peak_with_abs_t(p, **kwargs):\n",
    "    x, y = abs_time_and_samples(p)\n",
    "    kwargs.setdefault('linewidth', 1)\n",
    "\n",
    "    # Plot waveform\n",
    "    plt.plot(x, y,\n",
    "             drawstyle='steps-pre',\n",
    "             **kwargs)\n",
    "    if 'linewidth' in kwargs:\n",
    "        del kwargs['linewidth']\n",
    "    kwargs['alpha'] = kwargs.get('alpha', 1) * 0.2\n",
    "    plt.fill_between(x, 0, y, step='pre', linewidth=0, **kwargs)\n",
    "\n",
    "    # Mark extent with thin black line\n",
    "    plt.plot([x[0], x[-1]], [y.max(), y.max()],\n",
    "             c='k', alpha=0.3, linewidth=1)\n",
    "    \n",
    "    plt.ylabel('PE/sample')\n",
    "    plt.xlabel('time [sec]')\n",
    "    return x, y"
   ]
  },
  {
   "cell_type": "code",
   "execution_count": 21,
   "metadata": {},
   "outputs": [],
   "source": [
    "def time_and_samples(p, t0=None):\n",
    "    \"\"\"Return (x, y) numpy arrays for plotting the waveform data in p\n",
    "    using 'steps-pre'.\n",
    "    Where x is the time since t0 in seconds (or another time_scale),\n",
    "      and y is intensity in PE / ns.\n",
    "    :param p: Peak or other similar strax data type\n",
    "    :param t0: Zero of time in ns since unix epoch\n",
    "    \"\"\"\n",
    "    n = p['length']\n",
    "    if t0 is None:\n",
    "        t0 = p['time']\n",
    "    #x = ((p['time'] - t0) + np.arange(n + 1) * p['dt']) / int(1e9)\n",
    "    x = ((p['time'] - t0) + np.arange(n + 1) * p['dt']) \n",
    "\n",
    "    y = p['data'][:n] / p['dt']\n",
    "    return x, np.concatenate([[y[0]], y])\n",
    "\n",
    "\n",
    "def plot_get_peak(p, t0=None, **kwargs):\n",
    "    x, y = time_and_samples(p, t0=t0)\n",
    "    kwargs.setdefault('linewidth', 1)\n",
    "\n",
    "    # Plot waveform\n",
    "    plt.plot(x, y,\n",
    "             drawstyle='steps-pre',\n",
    "             **kwargs)\n",
    "    if 'linewidth' in kwargs:\n",
    "        del kwargs['linewidth']\n",
    "    kwargs['alpha'] = kwargs.get('alpha', 1) * 0.2\n",
    "    plt.fill_between(x, 0, y, step='pre', linewidth=0, **kwargs)\n",
    "\n",
    "    # Mark extent with thin black line\n",
    "    plt.plot([x[0], x[-1]], [y.max(), y.max()],\n",
    "             c='k', alpha=0.3, linewidth=1)\n",
    "    plt.ylabel('PE/sample')\n",
    "    plt.xlabel('time [nsec]')   \n",
    "#    return x, y"
   ]
  },
  {
   "cell_type": "code",
   "execution_count": 22,
   "metadata": {},
   "outputs": [],
   "source": [
    "## To show PMT hit-pattern\n",
    "\n",
    "%run s1_utils.py"
   ]
  },
  {
   "cell_type": "code",
   "execution_count": 23,
   "metadata": {},
   "outputs": [],
   "source": [
    "peaks = st.get_array(run_id, ['peaks'])"
   ]
  },
  {
   "cell_type": "code",
   "execution_count": 24,
   "metadata": {},
   "outputs": [
    {
     "data": {
      "text/plain": [
       "dtype([(('Start time since unix epoch [ns]', 'time'), '<i8'), (('Length of the interval in samples', 'length'), '<i4'), (('Width of one sample [ns]', 'dt'), '<i2'), (('Channel/PMT number', 'channel'), '<i2'), (('Classification of the peak(let)', 'type'), 'i1'), (('Integral across channels [PE]', 'area'), '<f4'), (('Integral per channel [PE]', 'area_per_channel'), '<f4', (494,)), (('Number of hits contributing at least one sample to the peak ', 'n_hits'), '<i4'), (('Waveform data in PE/sample (not PE/ns!)', 'data'), '<f4', (200,)), (('Peak widths in range of central area fraction [ns]', 'width'), '<f4', (11,)), (('Peak widths: time between nth and 5th area decile [ns]', 'area_decile_from_midpoint'), '<f4', (11,)), (('Does the channel reach ADC saturation?', 'saturated_channel'), 'i1', (494,)), (('Total number of saturated channels', 'n_saturated_channels'), '<i2'), (('Hits within tight range of mean', 'tight_coincidence'), '<i2'), (('Largest gap between hits inside peak [ns]', 'max_gap'), '<i4'), (('Maximum interior goodness of split', 'max_goodness_of_split'), '<f4')])"
      ]
     },
     "execution_count": 24,
     "metadata": {},
     "output_type": "execute_result"
    }
   ],
   "source": [
    "peaks.dtype"
   ]
  },
  {
   "cell_type": "code",
   "execution_count": 25,
   "metadata": {},
   "outputs": [
    {
     "data": {
      "text/plain": [
       "array([   1768000, 1001455060, 1001481100, 2001145650, 2001154770,\n",
       "       3001722270, 4001086900, 4001105630, 5001119290, 5001132700,\n",
       "       6001957730, 6001975640, 7001633000, 7001656860, 8001186240])"
      ]
     },
     "execution_count": 25,
     "metadata": {},
     "output_type": "execute_result"
    }
   ],
   "source": [
    "peaks['time']"
   ]
  },
  {
   "cell_type": "code",
   "execution_count": 26,
   "metadata": {},
   "outputs": [
    {
     "data": {
      "text/plain": [
       "array([165, 192, 195, 188, 171, 182, 193, 168, 144, 140, 165, 186, 158,\n",
       "       157, 169], dtype=int32)"
      ]
     },
     "execution_count": 26,
     "metadata": {},
     "output_type": "execute_result"
    }
   ],
   "source": [
    "peaks['length']"
   ]
  },
  {
   "cell_type": "code",
   "execution_count": 27,
   "metadata": {},
   "outputs": [
    {
     "data": {
      "text/plain": [
       "array([50, 30, 30, 20, 50, 60, 20, 30, 30, 30, 40, 40, 30, 40, 40],\n",
       "      dtype=int16)"
      ]
     },
     "execution_count": 27,
     "metadata": {},
     "output_type": "execute_result"
    }
   ],
   "source": [
    "peaks['dt']"
   ]
  },
  {
   "cell_type": "code",
   "execution_count": 28,
   "metadata": {
    "scrolled": true
   },
   "outputs": [
    {
     "data": {
      "text/plain": [
       "array([ 8250,  5760,  5850,  3760,  8550, 10920,  3860,  5040,  4320,\n",
       "        4200,  6600,  7440,  4740,  6280,  6760], dtype=int32)"
      ]
     },
     "execution_count": 28,
     "metadata": {},
     "output_type": "execute_result"
    }
   ],
   "source": [
    "peaks['dt']*peaks['length']"
   ]
  },
  {
   "cell_type": "code",
   "execution_count": 29,
   "metadata": {},
   "outputs": [
    {
     "data": {
      "image/png": "[encoded data removed]",
      "text/plain": [
       "<Figure size 432x288 with 1 Axes>"
      ]
     },
     "metadata": {
      "needs_background": "light"
     },
     "output_type": "display_data"
    }
   ],
   "source": [
    "for i in range(3, 5):\n",
    "\n",
    "    plot_get_peak_with_abs_t(peaks[i])"
   ]
  },
  {
   "cell_type": "code",
   "execution_count": 30,
   "metadata": {},
   "outputs": [
    {
     "data": {
      "image/png": "[encoded data removed]",
      "text/plain": [
       "<Figure size 432x288 with 1 Axes>"
      ]
     },
     "metadata": {
      "needs_background": "light"
     },
     "output_type": "display_data"
    }
   ],
   "source": [
    "for i in range(0, 1):\n",
    "\n",
    "    plot_get_peak_with_abs_t(peaks[i])"
   ]
  },
  {
   "cell_type": "code",
   "execution_count": 54,
   "metadata": {},
   "outputs": [
    {
     "data": {
      "image/png": "[encoded data removed]",
      "text/plain": [
       "<Figure size 432x288 with 1 Axes>"
      ]
     },
     "metadata": {
      "needs_background": "light"
     },
     "output_type": "display_data"
    }
   ],
   "source": [
    "for i in range(14, 15):\n",
    "\n",
    "    plot_get_peak_with_abs_t(peaks[i])"
   ]
  },
  {
   "cell_type": "code",
   "execution_count": 37,
   "metadata": {},
   "outputs": [],
   "source": [
    "true_S2s = truth[truth['type']==2]\n",
    "\n",
    "n_events = int(len(true_S2s)/2.)\n",
    "\n",
    "dtype = [    \n",
    "             ('is_double_s2', 'b'),\n",
    "\n",
    "             ('time_1st',np.int),    \n",
    "             ('endtime_1st',np.int),\n",
    "             ('type_1st',np.int),\n",
    "             ('x_1st',np.float),\n",
    "             ('y_1st',np.float),\n",
    "             ('z_1st',np.float),\n",
    "             ('recoil_1st', '<U2'),\n",
    "             (\"amp_1st\", np.float), \n",
    "             (\"n_electron_1st\", np.float),\n",
    "             (\"n_photon_1st\", np.float),\n",
    "    \n",
    "             ('time_2nd',np.int),    \n",
    "             ('endtime_2nd',np.int),\n",
    "             ('type_2nd',np.int),\n",
    "             ('x_2nd',np.float),\n",
    "             ('y_2nd',np.float),\n",
    "             ('z_2nd',np.float),\n",
    "             ('recoil_2nd', '<U2'),\n",
    "             (\"amp_2nd\", np.float), \n",
    "             (\"n_electron_2nd\", np.float),            \n",
    "             (\"n_photon_2nd\", np.float),    \n",
    "    \n",
    "             ('n_peaks',np.int),\n",
    "             ('peak_time_1st','<i8'),\n",
    "             ('peak_dt_1st','<i2'), \n",
    "             ('peak_length_1st','<i4'),   \n",
    "             (('Waveform data for 1st peak in PE/sample (not PE/ns!)', 'peak_data_1st'), '<f4', (200,)),    \n",
    "             ('peak_time_2nd','<i8'),\n",
    "             ('peak_dt_2nd','<i2'), \n",
    "             ('peak_length_2nd','<i4'),  \n",
    "             (('Waveform data for 2nd peak in PE/sample (not PE/ns!)', 'peak_data_2nd'), '<f4', (200,))   \n",
    "        ]\n",
    "\n",
    "result = np.zeros(n_events, dtype = dtype)"
   ]
  },
  {
   "cell_type": "code",
   "execution_count": 38,
   "metadata": {},
   "outputs": [],
   "source": [
    "for i in range(0, len(truth)):\n",
    "    \n",
    "            if i%2 !=0:\n",
    "                continue\n",
    "            \n",
    "            j = int(i/2)\n",
    "            \n",
    "            result['is_double_s2'] = True\n",
    "            \n",
    "            result['time_1st'][j] = true_S2s[i]['time']\n",
    "            result['endtime_1st'][j] = true_S2s[i]['endtime']\n",
    "            result['x_1st'][j] = true_S2s[i]['x']\n",
    "            result['y_1st'][j] = true_S2s[i]['y']\n",
    "            result['z_1st'][j] = true_S2s[i]['z']\n",
    "            result['amp_1st'][j] = true_S2s[i]['amp']\n",
    "            result['n_electron_1st'][j] = true_S2s[i]['n_electron']\n",
    "            result['n_photon_1st'][j] = true_S2s[i]['n_photon']\n",
    "\n",
    "            result['time_2nd'][j] = true_S2s[i+1]['time']\n",
    "            result['endtime_2nd'][j] = true_S2s[i+1]['endtime']\n",
    "            result['x_2nd'][j] = true_S2s[i+1]['x']\n",
    "            result['y_2nd'][j] = true_S2s[i+1]['y']\n",
    "            result['z_2nd'][j] = true_S2s[i+1]['z']\n",
    "            result['amp_2nd'][j] = true_S2s[i+1]['amp']\n",
    "            result['n_electron_2nd'][j] = true_S2s[i+1]['n_electron']\n",
    "            result['n_photon_2nd'][j] = true_S2s[i+1]['n_photon']\n",
    "            \n",
    "            \n",
    "            t_begin = true_S2s[i]['t_first_photon']\n",
    "            t_end   = true_S2s[i]['t_last_photon']\n",
    "            \n",
    "            if true_S2s[i]['t_first_photon'] > true_S2s[i+1]['t_first_photon']:\n",
    "                t_begin = true_S2s[i+1]['t_first_photon']\n",
    "                \n",
    "            if true_S2s[i]['t_last_photon'] < true_S2s[i+1]['t_last_photon']:\n",
    "                t_end = true_S2s[i+1]['t_last_photon']\n",
    "            \n",
    "            p = peaks[((peaks['time'] >= t_begin-1e2) & (peaks['time'] <= t_end+1e2))]\n",
    "            #p = p[p['area']>30.]\n",
    "            \n",
    "            #for k in range(0, len(p)):\n",
    "               #print(i, k, p['time'][k], p['type'][k], t_begin, t_begin-1e2, t_end, t_end+1e2)\n",
    "                        \n",
    "            t_peak_begin = p['time'][0]\n",
    "            t_peak_end = p['time'][0] + p['length'][0]*p['dt'][0]\n",
    "            \n",
    "            for k in range(1, len(p)):\n",
    "                \n",
    "                if t_peak_begin > p['time'][k]:\n",
    "                    t_peak_begin = p['time'][k]\n",
    "                \n",
    "                if t_peak_end < p['time'][k] + p['length'][k]*p['dt'][k]:\n",
    "                    t_peak_end = p['time'][k] + p['length'][k]*p['dt'][k]\n",
    "\n",
    "            result['n_peaks'][j] = len(p)\n",
    "\n",
    "            # To geat time S2[0] and S2[1]\n",
    "            result['peak_time_1st'][j] = p['time'][0]\n",
    "            result['peak_data_1st'][j] = p['data'][0]\n",
    "            result['peak_dt_1st'][j] = p['dt'][0]\n",
    "            result['peak_length_1st'][j] = p['length'][0]\n",
    "\n",
    "            if len(p) >=2:\n",
    "                result['peak_time_2nd'][j] = p['time'][1]\n",
    "                result['peak_data_2nd'][j] = p['data'][1]\n",
    "                result['peak_dt_2nd'][j] = p['dt'][1]\n",
    "                result['peak_length_2nd'][j] = p['length'][1]\n",
    "\n",
    "                \n",
    "            #print(i, len(p), p['dt'], len(p['data'][0]))\n",
    "            #print(np.argsort(p['area']))\n",
    "            #print(int(i/2), len(p), t_peak_begin, t_peak_end, t_peak_end-t_peak_begin)"
   ]
  },
  {
   "cell_type": "code",
   "execution_count": 39,
   "metadata": {},
   "outputs": [
    {
     "name": "stdout",
     "output_type": "stream",
     "text": [
      "1 1 50 0\n",
      "1 2 30 30\n",
      "1 2 20 50\n",
      "1 1 60 0\n",
      "1 2 20 30\n",
      "1 2 30 30\n",
      "1 2 40 40\n",
      "1 2 30 40\n",
      "1 1 40 0\n"
     ]
    }
   ],
   "source": [
    "for idx in range(0, 9):\n",
    "    print(result['is_double_s2'][idx], result['n_peaks'][idx], result['peak_dt_1st'][idx],result['peak_dt_2nd'][idx])"
   ]
  },
  {
   "cell_type": "code",
   "execution_count": 40,
   "metadata": {},
   "outputs": [
    {
     "data": {
      "text/plain": [
       "array([   1768015,    1769768, 1001455080, 1001481121, 2001144708,\n",
       "       2001158960, 3001722283, 3001725752, 4001086904, 4001105646,\n",
       "       5001119312, 5001132717, 6001957743, 6001975654, 7001633022,\n",
       "       7001656877, 8001186257, 8001188879])"
      ]
     },
     "execution_count": 40,
     "metadata": {},
     "output_type": "execute_result"
    }
   ],
   "source": [
    "truth['time']"
   ]
  },
  {
   "cell_type": "code",
   "execution_count": 41,
   "metadata": {},
   "outputs": [],
   "source": [
    "class Truth_for_DoubleS2s(strax.LoopPlugin):\n",
    "    depends_on = ('peaks','truth')\n",
    "    provides = 'truth_for_double_s2'\n",
    "    __version__ = '0.0.1'\n",
    "\n",
    "    dtype = [\n",
    "             ('is_double_s2', 'b'),\n",
    "             ('time',np.int),    \n",
    "             ('endtime',np.int),\n",
    "             ('event_number',np.int),\n",
    "\n",
    "\n",
    "             ('time_1st',np.int),    \n",
    "             ('endtime_1st',np.int),\n",
    "             ('type_1st',np.int),\n",
    "             ('x_1st',np.float),\n",
    "             ('y_1st',np.float),\n",
    "             ('z_1st',np.float),\n",
    "             ('recoil_1st', '<U2'),\n",
    "             (\"amp_1st\", np.float), \n",
    "             (\"n_electron_1st\", np.float),\n",
    "             (\"n_photon_1st\", np.float),\n",
    "    \n",
    "             ('time_2nd',np.int),    \n",
    "             ('endtime_2nd',np.int),\n",
    "             ('type_2nd',np.int),\n",
    "             ('x_2nd',np.float),\n",
    "             ('y_2nd',np.float),\n",
    "             ('z_2nd',np.float),\n",
    "             ('recoil_2nd', '<U2'),\n",
    "             (\"amp_2nd\", np.float), \n",
    "             (\"n_electron_2nd\", np.float),            \n",
    "             (\"n_photon_2nd\", np.float),    \n",
    "    \n",
    "             ('n_peaks',np.int),\n",
    "             ('peak_time_diff','<i8'),        \n",
    "             ('peak_time_1st','<i8'),\n",
    "             ('peak_dt_1st','<i2'), \n",
    "             ('peak_length_1st','<i4'),   \n",
    "             (('Waveform data for 1st peak in PE/sample (not PE/ns!)', 'peak_data_1st'), '<f4', (200,)),    \n",
    "             ('peak_time_2nd','<i8'),\n",
    "             ('peak_dt_2nd','<i2'), \n",
    "             ('peak_length_2nd','<i4'),  \n",
    "             (('Waveform data for 2nd peak in PE/sample (not PE/ns!)', 'peak_data_2nd'), '<f4', (200,))\n",
    "            ]\n",
    "\n",
    "    def compute(self, peaks, truth):\n",
    "\n",
    "        true_S2s = truth[truth['type']==2]\n",
    "\n",
    "        n_events = int(len(true_S2s)/2.)\n",
    "        \n",
    "        result = np.zeros(n_events, dtype = self.dtype)\n",
    "        \n",
    "        for i in range(0, len(true_S2s)):\n",
    "            \n",
    "            if i%2 !=0:\n",
    "                continue\n",
    "            \n",
    "            j = int(i/2)\n",
    "            \n",
    "            result['is_double_s2'][j] = True\n",
    "            result['event_number'][j] = j\n",
    "            \n",
    "            result['time_1st'][j] = true_S2s[i]['time']\n",
    "            result['endtime_1st'][j] = true_S2s[i]['endtime']\n",
    "            result['x_1st'][j] = true_S2s[i]['x']\n",
    "            result['y_1st'][j] = true_S2s[i]['y']\n",
    "            result['z_1st'][j] = true_S2s[i]['z']\n",
    "            result['amp_1st'][j] = true_S2s[i]['amp']\n",
    "            result['n_electron_1st'][j] = true_S2s[i]['n_electron']\n",
    "            result['n_photon_1st'][j] = true_S2s[i]['n_photon']\n",
    "\n",
    "            result['time_2nd'][j] = true_S2s[i+1]['time']\n",
    "            result['endtime_2nd'][j] = true_S2s[i+1]['endtime']\n",
    "            result['x_2nd'][j] = true_S2s[i+1]['x']\n",
    "            result['y_2nd'][j] = true_S2s[i+1]['y']\n",
    "            result['z_2nd'][j] = true_S2s[i+1]['z']\n",
    "            result['amp_2nd'][j] = true_S2s[i+1]['amp']\n",
    "            result['n_electron_2nd'][j] = true_S2s[i+1]['n_electron']\n",
    "            result['n_photon_2nd'][j] = true_S2s[i+1]['n_photon']\n",
    "\n",
    "            result['time'][j] = result['time_1st'][j]\n",
    "            result['endtime'][j] = result['endtime_2nd'][j]\n",
    "\n",
    "            t_begin = true_S2s[i]['t_first_photon']\n",
    "            t_end   = true_S2s[i]['t_last_photon']\n",
    "            \n",
    "            if true_S2s[i]['t_first_photon'] > true_S2s[i+1]['t_first_photon']:\n",
    "                t_begin = true_S2s[i+1]['t_first_photon']\n",
    "                \n",
    "            if true_S2s[i]['t_last_photon'] < true_S2s[i+1]['t_last_photon']:\n",
    "                t_end = true_S2s[i+1]['t_last_photon']\n",
    "            \n",
    "            p = peaks[((peaks['time'] >= t_begin-1e2) & (peaks['time'] <= t_end+1e2))]\n",
    "            #p = p[p['area']>30.]\n",
    "            \n",
    "            #for k in range(0, len(p)):\n",
    "               #print(i, k, p['time'][k], p['type'][k], t_begin, t_begin-1e2, t_end, t_end+1e2)\n",
    "                        \n",
    "            t_peak_begin = p['time'][0]\n",
    "            t_peak_end = p['time'][0] + p['length'][0]*p['dt'][0]\n",
    "            \n",
    "            for k in range(1, len(p)):\n",
    "                \n",
    "                if t_peak_begin > p['time'][k]:\n",
    "                    t_peak_begin = p['time'][k]\n",
    "                \n",
    "                if t_peak_end < p['time'][k] + p['length'][k]*p['dt'][k]:\n",
    "                    t_peak_end = p['time'][k] + p['length'][k]*p['dt'][k]\n",
    "\n",
    "            result['n_peaks'][j] = len(p)\n",
    "\n",
    "            # To geat time S2[0] and S2[1]\n",
    "\n",
    "            #data_1st = np.zeros(200, dtype=np.float)\n",
    "            #print(list(data_1st))\n",
    "            result['peak_time_1st'][j] = p['time'][0]\n",
    "            result['peak_data_1st'][j] = p['data'][0]\n",
    "            result['peak_dt_1st'][j] = p['dt'][0]\n",
    "            result['peak_length_1st'][j] = p['length'][0]\n",
    "\n",
    "            if len(p) == 1:\n",
    "                result['peak_time_diff'][j] = 0\n",
    "            \n",
    "            if len(p) >=2:\n",
    "                result['peak_time_diff'][j] = p['time'][1] - (p['time'][0] + p['length'][0]*p['dt'][0])\n",
    "                    \n",
    "                result['peak_time_2nd'][j] = p['time'][1]\n",
    "                result['peak_data_2nd'][j] = p['data'][1]\n",
    "                result['peak_dt_2nd'][j] = p['dt'][1]\n",
    "                result['peak_length_2nd'][j] = p['length'][1]\n",
    "                    \n",
    "        return(result)"
   ]
  },
  {
   "cell_type": "code",
   "execution_count": 42,
   "metadata": {},
   "outputs": [
    {
     "data": {
      "text/plain": [
       "__main__.Truth_for_DoubleS2s"
      ]
     },
     "execution_count": 42,
     "metadata": {},
     "output_type": "execute_result"
    }
   ],
   "source": [
    "st.register(Truth_for_DoubleS2s)"
   ]
  },
  {
   "cell_type": "code",
   "execution_count": 43,
   "metadata": {},
   "outputs": [
    {
     "data": {
      "application/vnd.jupyter.widget-view+json": {
       "model_id": "f2fd3b04274642a58454bc4f89037bd9",
       "version_major": 2,
       "version_minor": 0
      },
      "text/plain": [
       "HBox(children=(FloatProgress(value=0.0, max=1.0), HTML(value='')))"
      ]
     },
     "metadata": {},
     "output_type": "display_data"
    },
    {
     "name": "stdout",
     "output_type": "stream",
     "text": [
      "\n"
     ]
    }
   ],
   "source": [
    "truth_array = st.get_array(run_id,'truth_for_double_s2')"
   ]
  },
  {
   "cell_type": "code",
   "execution_count": 44,
   "metadata": {},
   "outputs": [
    {
     "data": {
      "text/plain": [
       "array([0, 1, 2, 3, 4, 5, 6, 7, 8])"
      ]
     },
     "execution_count": 44,
     "metadata": {},
     "output_type": "execute_result"
    }
   ],
   "source": [
    "truth_array['event_number']"
   ]
  },
  {
   "cell_type": "code",
   "execution_count": 45,
   "metadata": {},
   "outputs": [
    {
     "data": {
      "text/plain": [
       "array([1, 2, 2, 1, 2, 2, 2, 2, 1])"
      ]
     },
     "execution_count": 45,
     "metadata": {},
     "output_type": "execute_result"
    }
   ],
   "source": [
    "truth_array['n_peaks']"
   ]
  },
  {
   "cell_type": "code",
   "execution_count": 46,
   "metadata": {},
   "outputs": [
    {
     "data": {
      "text/plain": [
       "array([    0, 20280,  5360,     0, 14870,  9090, 11310, 19120,     0])"
      ]
     },
     "execution_count": 46,
     "metadata": {},
     "output_type": "execute_result"
    }
   ],
   "source": [
    "truth_array['peak_time_diff']"
   ]
  },
  {
   "cell_type": "code",
   "execution_count": 56,
   "metadata": {},
   "outputs": [
    {
     "data": {
      "text/plain": [
       "array([ 3.2174    ,  1.4051254 ,  1.5275762 ,  0.78062516,  2.9235177 ,\n",
       "        3.9765964 ,  5.427641  ,  3.284748  ,  3.9995677 ,  5.6404114 ,\n",
       "        3.8709943 ,  3.4852734 ,  2.2240283 ,  3.9138517 ,  5.046524  ,\n",
       "        4.336308  ,  7.5077887 ,  6.956759  , 10.336407  ,  5.447551  ,\n",
       "        6.916962  ,  6.1455216 ,  5.337345  ,  4.829173  ,  6.8251243 ,\n",
       "        2.2883148 ,  2.3434181 ,  1.2771735 ,  0.9183826 ,  1.8435094 ,\n",
       "        3.4906306 ,  3.9008415 ,  1.243655  ,  0.6007872 ,  2.3763268 ,\n",
       "        6.870278  ,  4.5192194 ,  9.698896  ,  8.131524  ,  7.476411  ,\n",
       "       13.605083  , 12.319347  , 11.492803  , 10.647892  , 17.896992  ,\n",
       "       15.380624  , 11.60301   , 13.311201  , 16.280638  , 15.747511  ,\n",
       "       14.761468  , 10.598134  , 11.810399  ,  8.945045  ,  8.47361   ,\n",
       "        6.6429663 ,  4.212314  ,  4.855182  ,  5.0388584 ,  5.387844  ,\n",
       "       10.879771  ,  9.6185255 ,  9.624649  , 10.677727  , 15.588013  ,\n",
       "       12.618575  , 11.440744  , 17.856556  , 14.841043  , 15.232887  ,\n",
       "       16.830873  , 10.989959  , 11.718543  , 14.155319  , 10.169538  ,\n",
       "        8.491959  , 10.622606  ,  6.3245764 ,  6.4715176 , 11.73691   ,\n",
       "        6.624581  ,  7.5503063 ,  8.025108  ,  5.8393583 ,  5.6924167 ,\n",
       "        7.137339  ,  5.222822  ,  6.0253363 ,  3.4293756 ,  4.9300222 ,\n",
       "       10.927215  ,  6.163872  ,  7.86594   ,  5.220999  ,  6.6046944 ,\n",
       "        7.957778  ,  6.237341  ,  6.9598026 , 10.798641  , 14.619112  ,\n",
       "        7.804714  ,  7.7823706 ,  7.910334  , 10.8063    ,  8.559325  ,\n",
       "        8.8103485 ,  6.924604  , 11.49815   ,  6.1715302 ,  7.9899273 ,\n",
       "        6.753173  ,  5.822545  , 11.583864  ,  6.557251  ,  8.136869  ,\n",
       "        9.753222  , 11.400188  ,  7.1205254 ,  6.324594  ,  3.9551668 ,\n",
       "        3.238829  ,  2.993927  ,  3.4225059 ,  3.416383  ,  1.2734903 ,\n",
       "        3.1102555 ,  7.016443  ,  9.906286  ,  4.867427  ,  3.9306765 ,\n",
       "        5.8776474 ,  3.5388339 ,  1.3224708 ,  0.52041674,  0.22653434,\n",
       "        1.3653287 ,  6.551128  ,  4.2000694 ,  6.202143  ,  3.8816967 ,\n",
       "        5.344986  ,  7.5184913 ,  3.5878143 ,  8.069521  ,  3.4653635 ,\n",
       "        6.110305  ,  5.822545  ,  5.21029   ,  2.1428924 ,  3.8021038 ,\n",
       "        3.7959812 ,  1.5428827 ,  1.0040982 ,  3.2082164 ,  0.88776976,\n",
       "        4.163334  ,  2.0020738 ,  0.74695104,  0.85103446,  0.55102944,\n",
       "        0.96124035,  0.33674023,  0.14081866,  0.0734706 ,  0.03061275,\n",
       "        0.        ,  0.        ,  0.        ,  0.        ,  0.        ,\n",
       "        0.        ,  0.        ,  0.        ,  0.        ,  0.        ,\n",
       "        0.        ,  0.        ,  0.        ,  0.        ,  0.        ,\n",
       "        0.        ,  0.        ,  0.        ,  0.        ,  0.        ,\n",
       "        0.        ,  0.        ,  0.        ,  0.        ,  0.        ,\n",
       "        0.        ,  0.        ,  0.        ,  0.        ,  0.        ,\n",
       "        0.        ,  0.        ,  0.        ,  0.        ,  0.        ],\n",
       "      dtype=float32)"
      ]
     },
     "execution_count": 56,
     "metadata": {},
     "output_type": "execute_result"
    }
   ],
   "source": [
    "truth_array['peak_data_1st'][0]"
   ]
  },
  {
   "cell_type": "code",
   "execution_count": 47,
   "metadata": {},
   "outputs": [
    {
     "data": {
      "text/plain": [
       "dtype([('is_double_s2', 'i1'), ('time', '<i8'), ('endtime', '<i8'), ('event_number', '<i8'), ('time_1st', '<i8'), ('endtime_1st', '<i8'), ('type_1st', '<i8'), ('x_1st', '<f8'), ('y_1st', '<f8'), ('z_1st', '<f8'), ('recoil_1st', '<U2'), ('amp_1st', '<f8'), ('n_electron_1st', '<f8'), ('n_photon_1st', '<f8'), ('time_2nd', '<i8'), ('endtime_2nd', '<i8'), ('type_2nd', '<i8'), ('x_2nd', '<f8'), ('y_2nd', '<f8'), ('z_2nd', '<f8'), ('recoil_2nd', '<U2'), ('amp_2nd', '<f8'), ('n_electron_2nd', '<f8'), ('n_photon_2nd', '<f8'), ('n_peaks', '<i8'), ('peak_time_diff', '<i8'), ('peak_time_1st', '<i8'), ('peak_dt_1st', '<i2'), ('peak_length_1st', '<i4'), (('Waveform data for 1st peak in PE/sample (not PE/ns!)', 'peak_data_1st'), '<f4', (200,)), ('peak_time_2nd', '<i8'), ('peak_dt_2nd', '<i2'), ('peak_length_2nd', '<i4'), (('Waveform data for 2nd peak in PE/sample (not PE/ns!)', 'peak_data_2nd'), '<f4', (200,))])"
      ]
     },
     "execution_count": 47,
     "metadata": {},
     "output_type": "execute_result"
    }
   ],
   "source": [
    "truth_array.dtype"
   ]
  },
  {
   "cell_type": "code",
   "execution_count": null,
   "metadata": {},
   "outputs": [],
   "source": []
  },
  {
   "cell_type": "code",
   "execution_count": null,
   "metadata": {},
   "outputs": [],
   "source": []
  },
  {
   "cell_type": "code",
   "execution_count": null,
   "metadata": {},
   "outputs": [],
   "source": []
  },
  {
   "cell_type": "code",
   "execution_count": null,
   "metadata": {},
   "outputs": [],
   "source": []
  },
  {
   "cell_type": "code",
   "execution_count": null,
   "metadata": {},
   "outputs": [],
   "source": []
  },
  {
   "cell_type": "code",
   "execution_count": null,
   "metadata": {},
   "outputs": [],
   "source": []
  },
  {
   "cell_type": "code",
   "execution_count": null,
   "metadata": {},
   "outputs": [],
   "source": []
  },
  {
   "cell_type": "code",
   "execution_count": null,
   "metadata": {},
   "outputs": [],
   "source": []
  }
 ],
 "metadata": {
  "kernelspec": {
   "display_name": "Python 3",
   "language": "python",
   "name": "python3"
  },
  "language_info": {
   "codemirror_mode": {
    "name": "ipython",
    "version": 3
   },
   "file_extension": ".py",
   "mimetype": "text/x-python",
   "name": "python",
   "nbconvert_exporter": "python",
   "pygments_lexer": "ipython3",
   "version": "3.7.7"
  }
 },
 "nbformat": 4,
 "nbformat_minor": 4
}
